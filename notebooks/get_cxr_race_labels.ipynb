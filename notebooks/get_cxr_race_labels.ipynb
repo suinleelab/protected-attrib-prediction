{
 "cells": [
  {
   "cell_type": "code",
   "execution_count": null,
   "id": "923c8363",
   "metadata": {},
   "outputs": [],
   "source": [
    "import pandas as pd\n",
    "import os"
   ]
  },
  {
   "cell_type": "markdown",
   "id": "4a5db49e",
   "metadata": {},
   "source": [
    "# CheXpert"
   ]
  },
  {
   "cell_type": "code",
   "execution_count": null,
   "id": "2ee15d02",
   "metadata": {},
   "outputs": [],
   "source": [
    "BASE_DIR_CHEXPERT = os.environ['BASE_DIR_CHEXPERT']"
   ]
  },
  {
   "cell_type": "code",
   "execution_count": null,
   "id": "b3216d7f",
   "metadata": {},
   "outputs": [],
   "source": [
    "data_df = pd.read_csv(f'{BASE_DIR_CHEXPERT}/chexpert_batch_1_valid_and_csv/train.csv')\n",
    "demo_df = pd.read_csv(f'{BASE_DIR_CHEXPERT}/chexpert_batch_1_valid_and_csv/chexpert_race_labels.csv')\n",
    "data_df = data_df.rename(columns={\"Path\": \"path\"})"
   ]
  },
  {
   "cell_type": "code",
   "execution_count": null,
   "id": "5cb5cbee",
   "metadata": {},
   "outputs": [],
   "source": [
    "path_split =  data_df.path.str.split(\"/\", expand = True)\n",
    "data_df[\"patient_id\"] = path_split[2]\n",
    "demo_df = demo_df.rename(columns={'PATIENT': 'patient_id'})\n",
    "data_df = data_df.merge(demo_df, on=\"patient_id\")\n",
    "\n",
    "mask = (data_df.PRIMARY_RACE.str.contains(\"Black\", na=False))\n",
    "data_df.loc[mask, \"race\"] = \"BLACK/AFRICAN AMERICAN\"\n",
    "\n",
    "mask = (data_df.PRIMARY_RACE.str.contains(\"White\", na=False))\n",
    "data_df.loc[mask, \"race\"] = \"WHITE\"\n",
    "\n",
    "mask = (data_df.PRIMARY_RACE.str.contains(\"Asian\", na=False))\n",
    "data_df.loc[mask, \"race\"] = \"ASIAN\"\n",
    "\n",
    "mask = (data_df.PRIMARY_RACE.str.contains(\"Other\", na=False))\n",
    "data_df.loc[mask, \"race\"] = \"OTHER\""
   ]
  },
  {
   "cell_type": "code",
   "execution_count": null,
   "id": "9b25baa0",
   "metadata": {},
   "outputs": [],
   "source": [
    "data_df.to_csv(f\"{BASE_DIR_CHEXPERT}/chexpert_batch_1_valid_and_csv/train_with_race_labels.csv\")"
   ]
  },
  {
   "cell_type": "markdown",
   "id": "d03b504a",
   "metadata": {},
   "source": [
    "# MIMIC-CXR"
   ]
  },
  {
   "cell_type": "code",
   "execution_count": null,
   "id": "e701c4f9",
   "metadata": {},
   "outputs": [],
   "source": [
    "BASE_DIR_MIMIC = os.environ['BASE_DIR_MIMIC']"
   ]
  },
  {
   "cell_type": "code",
   "execution_count": null,
   "id": "c115052e",
   "metadata": {},
   "outputs": [],
   "source": [
    "metadata_df = pd.read_csv(f'{BASE_DIR_MIMIC}/mimic-cxr-2.0.0-metadata.csv')\n",
    "demographic_df = pd.read_csv(f'{BASE_DIR_MIMIC}/admissions.csv')\n",
    "demographic_df = demographic_df.drop_duplicates(subset='subject_id')\n",
    "patients = pd.read_csv(f'{BASE_DIR_MIMIC}/patients.csv')\n",
    "patients = patients.drop_duplicates(subset='subject_id')\n",
    "chexpert_labels = pd.read_csv(f'{BASE_DIR_MIMIC}/mimic-cxr-2.0.0-chexpert.csv')"
   ]
  },
  {
   "cell_type": "code",
   "execution_count": null,
   "id": "2156e323",
   "metadata": {},
   "outputs": [],
   "source": [
    "# remove patients who have inconsistent documented race information\n",
    "# credit to github.com/robintibor\n",
    "ethnicity_df = demographic_df.loc[:,['subject_id', 'race']].drop_duplicates()\n",
    "\n",
    "v = ethnicity_df.subject_id.value_counts()\n",
    "subject_id_more_than_once = v.index[v.gt(1)]\n",
    "\n",
    "ambiguous_ethnicity_df = ethnicity_df[ethnicity_df.subject_id.isin(subject_id_more_than_once)]\n",
    "inconsistent_race = ambiguous_ethnicity_df.subject_id.unique()\n",
    "\n",
    "grouped = ambiguous_ethnicity_df.groupby('subject_id')\n",
    "grouped.aggregate(lambda x: \"_\".join(sorted(x))).race.value_counts()"
   ]
  },
  {
   "cell_type": "code",
   "execution_count": null,
   "id": "41d2438c",
   "metadata": {},
   "outputs": [],
   "source": [
    "merge_df = pd.merge(metadata_df,demographic_df,on='subject_id')\n",
    "merge_df = pd.merge(merge_df,patients,on='subject_id')\n",
    "merge_df = pd.merge(merge_df,chexpert_labels,on=['subject_id', 'study_id'])\n",
    "\n",
    "merge_df = merge_df[~merge_df.subject_id.isin(inconsistent_race)]\n",
    "merge_df = merge_df.rename(columns={\"ethnicity\": \"race\"})\n",
    "merge_df = merge_df.rename(columns={\"anchor_age\": \"age\"})\n",
    "\n",
    "merge_df = merge_df[merge_df.race.isin(['BLACK/AFRICAN AMERICAN','WHITE'])]\n",
    "merge_df = merge_df[merge_df.ViewPosition.isin(['AP','PA', 'LATERAL'])]"
   ]
  },
  {
   "cell_type": "code",
   "execution_count": null,
   "id": "799aec27",
   "metadata": {},
   "outputs": [],
   "source": [
    "data_df = merge_df.drop_duplicates(subset=['subject_id']) #.query(\"dicom_id in @dicom_ids\")\n",
    "data_df.subject_id = data_df.subject_id.astype(str)\n",
    "data_df.study_id = data_df.study_id.astype(str)\n",
    "data_df = data_df.fillna(0)\n",
    "data_df.insert(2, \"path\", \"\")\n",
    "data_df.path = data_df.subject_id.str[0:2]\n",
    "data_df.path = \"p\" + data_df.path\n",
    "data_df.path = data_df.path + \"/p\" + data_df.subject_id + \"/s\" + data_df.study_id + \"/\" + data_df.dicom_id + \".jpg\""
   ]
  },
  {
   "cell_type": "code",
   "execution_count": null,
   "id": "8ad64b9b",
   "metadata": {},
   "outputs": [],
   "source": [
    "data_df['path'].apply(lambda x: 'files/' + x).to_csv(\"/projects/leelab3/sgadgil/mimic_cxr_jpg/new_test_set_jpgs.txt\", header=None, index=None)"
   ]
  },
  {
   "cell_type": "code",
   "execution_count": null,
   "id": "6fd21a0f",
   "metadata": {},
   "outputs": [],
   "source": [
    "data_df.to_csv(f\"{BASE_DIR_MIMIC}/metadata.csv\", index=False)"
   ]
  }
 ],
 "metadata": {
  "kernelspec": {
   "display_name": "Python [conda env:DIME]",
   "language": "python",
   "name": "conda-env-DIME-py"
  },
  "language_info": {
   "codemirror_mode": {
    "name": "ipython",
    "version": 3
   },
   "file_extension": ".py",
   "mimetype": "text/x-python",
   "name": "python",
   "nbconvert_exporter": "python",
   "pygments_lexer": "ipython3",
   "version": "3.9.17"
  },
  "vscode": {
   "interpreter": {
    "hash": "7ea27916aa709f5edf5d3b5592bb51751032be9c49a3e5cd4fc26e64c0418e29"
   }
  }
 },
 "nbformat": 4,
 "nbformat_minor": 5
}
